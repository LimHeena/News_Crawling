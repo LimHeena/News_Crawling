{
 "cells": [
  {
   "cell_type": "markdown",
   "id": "42eaa048",
   "metadata": {},
   "source": [
    "# Scrapy 사용"
   ]
  },
  {
   "cell_type": "markdown",
   "id": "c7e222a7",
   "metadata": {},
   "source": [
    "### 스크래피 가상환경 study에 설치\n",
    "- pip install scrapy"
   ]
  },
  {
   "cell_type": "markdown",
   "id": "e5f40e94",
   "metadata": {},
   "source": [
    "### 스크래피 체험\n",
    "- scrapy shell"
   ]
  },
  {
   "cell_type": "markdown",
   "id": "cde42771",
   "metadata": {},
   "source": [
    "#### 1. starting point 주기(크롤링 시작할 위치)\n",
    "#### 그럼 Response Code가 출력됨\n",
    "- fetch('주소')\n",
    "\n",
    "#### 2. 크롤러가 무엇을 다운로드 했는지 확인(브라우저 열리면서 보여줌)\n",
    "- view(response)"
   ]
  },
  {
   "cell_type": "markdown",
   "id": "0a79da9a",
   "metadata": {},
   "source": [
    "print(response.text) 로 확인 가능"
   ]
  },
  {
   "cell_type": "markdown",
   "id": "8c8d595e",
   "metadata": {},
   "source": [
    "#### 사회의 사건사고 카테고리 0201 기사들 목록에서\n",
    "\n",
    "- //*[@id=\"main_content\"]/div[2]/ul[1]/li/dl/dt[2]/\n",
    "\n",
    "이렇게 하면 10개 \n",
    "\n",
    "- //*[@id=\"main_content\"]/div[2]/ul/li/dl/dt[2]/a\n",
    "\n",
    "이렇게 하면 20개 - 한페이지 url 갖고옴"
   ]
  },
  {
   "cell_type": "code",
   "execution_count": null,
   "id": "9f13be51",
   "metadata": {},
   "outputs": [],
   "source": []
  }
 ],
 "metadata": {
  "kernelspec": {
   "display_name": "Python 3 (ipykernel)",
   "language": "python",
   "name": "python3"
  },
  "language_info": {
   "codemirror_mode": {
    "name": "ipython",
    "version": 3
   },
   "file_extension": ".py",
   "mimetype": "text/x-python",
   "name": "python",
   "nbconvert_exporter": "python",
   "pygments_lexer": "ipython3",
   "version": "3.10.9"
  }
 },
 "nbformat": 4,
 "nbformat_minor": 5
}
